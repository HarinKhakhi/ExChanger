{
 "cells": [
  {
   "cell_type": "code",
   "execution_count": null,
   "metadata": {},
   "outputs": [],
   "source": [
    "    import cv2\n",
    "    from flask import request, jsonify\n",
    "\n",
    "@app.route('/extract', methods=['GET'])\n",
    "def extract_faces():\n",
    "\n",
    "    # load the pre-trained model\n",
    "    classifier = cv2.CascadeClassifier(cv2.data.haarcascades + 'haarcascade_frontalface_default.xml')\n",
    "\n",
    "    # load the photograph\n",
    "    pixels = cv2.imread(request.args['filename'])\n",
    "\n",
    "    bboxes = classifier.detectMultiScale(pixels)\n",
    "    boxes = dict()\n",
    "    name = 'box'\n",
    "    ind = 0\n",
    "    # print bounding box for each detected face\n",
    "    pixels2 = pixels\n",
    "    cropped_img = []\n",
    "    for box in bboxes:\n",
    "      # extract\n",
    "      x, y, width, height = box\n",
    "      x2, y2 = x + width, y + height\n",
    "      cropped = pixels2[y:y2,x:x2]\n",
    "      cropped_img.append(cropped)\n",
    "      # draw a rectangle over the pixels\n",
    "      # rectangle(pixels, (x, y), (x2, y2), (0,0,255), 1)\n",
    "      ind+=1\n",
    "      name+=str(ind)\n",
    "      boxes[name]=pixels\n",
    "\n",
    "    return jsonify(boxes)\n",
    "\n",
    "app.run()\n",
    "\n"
   ]
  }
 ],
 "metadata": {
  "kernelspec": {
   "display_name": "Python 3",
   "language": "python",
   "name": "python3"
  },
  "language_info": {
   "codemirror_mode": {
    "name": "ipython",
    "version": 3
   },
   "file_extension": ".py",
   "mimetype": "text/x-python",
   "name": "python",
   "nbconvert_exporter": "python",
   "pygments_lexer": "ipython3",
   "version": "3.7.7"
  }
 },
 "nbformat": 4,
 "nbformat_minor": 4
}
